{
 "cells": [
  {
   "cell_type": "code",
   "execution_count": 179,
   "id": "047a4918-12c2-484c-bdd3-5c38a7aa832e",
   "metadata": {},
   "outputs": [],
   "source": [
    "import pandas as pd\n",
    "import datetime"
   ]
  },
  {
   "cell_type": "code",
   "execution_count": 228,
   "id": "0fe5bb06-120b-45e9-8f3c-024044425a6c",
   "metadata": {},
   "outputs": [
    {
     "name": "stdout",
     "output_type": "stream",
     "text": [
      "           location        date  new_deaths  median_age  population\n",
      "0       Afghanistan  2020-02-24         NaN        18.6  41128772.0\n",
      "1       Afghanistan  2020-02-25         NaN        18.6  41128772.0\n",
      "2       Afghanistan  2020-02-26         NaN        18.6  41128772.0\n",
      "3       Afghanistan  2020-02-27         NaN        18.6  41128772.0\n",
      "4       Afghanistan  2020-02-28         NaN        18.6  41128772.0\n",
      "...             ...         ...         ...         ...         ...\n",
      "252512     Zimbabwe  2023-01-20         0.0        19.6  16320539.0\n",
      "252513     Zimbabwe  2023-01-21         0.0        19.6  16320539.0\n",
      "252514     Zimbabwe  2023-01-22         0.0        19.6  16320539.0\n",
      "252515     Zimbabwe  2023-01-23         0.0        19.6  16320539.0\n",
      "252516     Zimbabwe  2023-01-24        15.0        19.6  16320539.0\n",
      "\n",
      "[252517 rows x 5 columns]\n"
     ]
    }
   ],
   "source": [
    "columns = ['location','date','population','median_age','new_deaths']\n",
    "df = pd.read_csv('owid-covid-data.csv', usecols=columns)\n",
    "\n",
    "print(df)"
   ]
  },
  {
   "cell_type": "code",
   "execution_count": 181,
   "id": "787edd3a-2eb2-43af-98f5-a470c7091a6d",
   "metadata": {},
   "outputs": [],
   "source": [
    "import pandasql as ps\n",
    "from pandasql import sqldf"
   ]
  },
  {
   "cell_type": "code",
   "execution_count": 218,
   "id": "ac15eff7-b82c-4bad-ac30-1cf9ae5d306a",
   "metadata": {},
   "outputs": [
    {
     "name": "stdout",
     "output_type": "stream",
     "text": [
      "   location  total_deaths  year_month\n",
      "0    France           2.0  2020-02-01\n",
      "1    France        3524.0  2020-03-01\n",
      "2    France       20823.0  2020-04-01\n",
      "3    France        4753.0  2020-05-01\n",
      "4    France        1041.0  2020-06-01\n",
      "5    France         436.0  2020-07-01\n",
      "6    France         378.0  2020-08-01\n",
      "7    France        1345.0  2020-09-01\n",
      "8    France        4848.0  2020-10-01\n",
      "9    France       15980.0  2020-11-01\n",
      "10   France       11901.0  2020-12-01\n",
      "11   France       11425.0  2021-01-01\n",
      "12   France       10371.0  2021-02-01\n",
      "13   France        9213.0  2021-03-01\n",
      "14   France        8875.0  2021-04-01\n",
      "15   France        5016.0  2021-05-01\n",
      "16   France        1566.0  2021-06-01\n",
      "17   France         795.0  2021-07-01\n",
      "18   France        2578.0  2021-08-01\n",
      "19   France        2244.0  2021-09-01\n",
      "20   France         990.0  2021-10-01\n",
      "21   France        1476.0  2021-11-01\n",
      "22   France        4612.0  2021-12-01\n",
      "23   France        7206.0  2022-01-01\n",
      "24   France        7425.0  2022-02-01\n",
      "25   France        3906.0  2022-03-01\n",
      "26   France        3657.0  2022-04-01\n",
      "27   France        2397.0  2022-05-01\n",
      "28   France        1206.0  2022-06-01\n",
      "29   France        2450.0  2022-07-01\n",
      "30   France        2110.0  2022-08-01\n",
      "31   France        1019.0  2022-09-01\n",
      "32   France        1882.0  2022-10-01\n",
      "33   France        1956.0  2022-11-01\n",
      "34   France        3012.0  2022-12-01\n",
      "35   France        2046.0  2023-01-01\n"
     ]
    }
   ],
   "source": [
    "pysqldf = lambda q: ps.sqldf(q, globals())\n",
    "query = \"\"\"\n",
    "SELECT\n",
    "location,\n",
    "SUM(new_deaths) as total_deaths,\n",
    "strftime('%Y', date) || '-' || strftime('%m', date) || '-01' as year_month\n",
    "FROM df \n",
    "WHERE location = 'France' AND total_deaths IS NOT NULL\n",
    "GROUP BY location, strftime('%Y', date) || '-' || strftime('%m', date) || '-01'\n",
    "ORDER BY date ASC\n",
    "\"\"\"\n",
    "result = pysqldf(query)\n",
    "\n",
    "print(result)\n",
    "result.to_csv('france_total_death.csv', mode='a', index=False)"
   ]
  },
  {
   "cell_type": "code",
   "execution_count": 183,
   "id": "c7284f73-86d7-45ca-8444-c917dafecb64",
   "metadata": {},
   "outputs": [],
   "source": [
    "from sklearn.linear_model import LinearRegression"
   ]
  },
  {
   "cell_type": "code",
   "execution_count": 195,
   "id": "28fd2042-b77d-4f36-981e-5374c115b764",
   "metadata": {},
   "outputs": [
    {
     "name": "stdout",
     "output_type": "stream",
     "text": [
      "Predicted total deaths for February 2023:  1949.8396825396821\n",
      "Predicted total deaths for March 2023:  1808.2934791934795\n"
     ]
    },
    {
     "name": "stderr",
     "output_type": "stream",
     "text": [
      "C:\\Users\\asus7\\AppData\\Local\\Programs\\Python\\Python311\\Lib\\site-packages\\sklearn\\base.py:409: UserWarning: X does not have valid feature names, but LinearRegression was fitted with feature names\n",
      "  warnings.warn(\n"
     ]
    }
   ],
   "source": [
    "# Create an instance of the linear regression model\n",
    "linear_reg = LinearRegression()\n",
    "\n",
    "# Split the data into training and testing sets\n",
    "X_train = result[['months']]\n",
    "y_train = result['total_deaths']\n",
    "\n",
    "# Train the model using the training data\n",
    "linear_reg.fit(X_train, y_train)\n",
    "\n",
    "# Make predictions for the months of February and March 2023\n",
    "X_test = [[37], [38]]\n",
    "y_pred = linear_reg.predict(X_test)\n",
    "\n",
    "print(\"Predicted total deaths for February 2023: \", y_pred[0])\n",
    "print(\"Predicted total deaths for March 2023: \", y_pred[1])\n"
   ]
  },
  {
   "cell_type": "code",
   "execution_count": 220,
   "id": "4b730f90-d183-4308-a32b-341ccdd9cea4",
   "metadata": {},
   "outputs": [
    {
     "name": "stdout",
     "output_type": "stream",
     "text": [
      "   location  total_deaths  year_month\n",
      "0    France      2.000000  2020-02-01\n",
      "1    France   3524.000000  2020-03-01\n",
      "2    France  20823.000000  2020-04-01\n",
      "3    France   4753.000000  2020-05-01\n",
      "4    France   1041.000000  2020-06-01\n",
      "5    France    436.000000  2020-07-01\n",
      "6    France    378.000000  2020-08-01\n",
      "7    France   1345.000000  2020-09-01\n",
      "8    France   4848.000000  2020-10-01\n",
      "9    France  15980.000000  2020-11-01\n",
      "10   France  11901.000000  2020-12-01\n",
      "11   France  11425.000000  2021-01-01\n",
      "12   France  10371.000000  2021-02-01\n",
      "13   France   9213.000000  2021-03-01\n",
      "14   France   8875.000000  2021-04-01\n",
      "15   France   5016.000000  2021-05-01\n",
      "16   France   1566.000000  2021-06-01\n",
      "17   France    795.000000  2021-07-01\n",
      "18   France   2578.000000  2021-08-01\n",
      "19   France   2244.000000  2021-09-01\n",
      "20   France    990.000000  2021-10-01\n",
      "21   France   1476.000000  2021-11-01\n",
      "22   France   4612.000000  2021-12-01\n",
      "23   France   7206.000000  2022-01-01\n",
      "24   France   7425.000000  2022-02-01\n",
      "25   France   3906.000000  2022-03-01\n",
      "26   France   3657.000000  2022-04-01\n",
      "27   France   2397.000000  2022-05-01\n",
      "28   France   1206.000000  2022-06-01\n",
      "29   France   2450.000000  2022-07-01\n",
      "30   France   2110.000000  2022-08-01\n",
      "31   France   1019.000000  2022-09-01\n",
      "32   France   1882.000000  2022-10-01\n",
      "33   France   1956.000000  2022-11-01\n",
      "34   France   3012.000000  2022-12-01\n",
      "35   France   2046.000000  2023-01-01\n",
      "0    France   1949.839683     2023-02\n",
      "0    France   1808.293479     2023-03\n"
     ]
    }
   ],
   "source": [
    "# Create a new dataframe with the same columns as the original\n",
    "predictions = pd.DataFrame(columns=result.columns)\n",
    "\n",
    "# Add the predicted values for February and March 2023 to the new dataframe\n",
    "predictions = pd.concat([predictions, pd.DataFrame({'location': ['France'], 'year_month': ['2023-02'] , 'total_deaths': y_pred[0]})])\n",
    "predictions = pd.concat([predictions, pd.DataFrame({'location': ['France'], 'year_month': ['2023-03'] , 'total_deaths': y_pred[1]})])\n",
    "\n",
    "# Concatenate the original dataframe with the new dataframe\n",
    "prediction = pd.concat([result, predictions], axis=0)\n",
    "print(prediction)"
   ]
  },
  {
   "cell_type": "code",
   "execution_count": 221,
   "id": "0770c543-cd6b-4911-9aef-28cd1c624538",
   "metadata": {},
   "outputs": [
    {
     "data": {
      "image/png": "[encoded data removed]",
      "text/plain": [
       "<Figure size 640x480 with 1 Axes>"
      ]
     },
     "metadata": {},
     "output_type": "display_data"
    }
   ],
   "source": [
    "import matplotlib.pyplot as plt\n",
    "\n",
    "prediction['year_month'] = pd.to_datetime(prediction['year_month'])\n",
    "prediction = prediction.set_index('year_month')\n",
    "prediction.plot()\n",
    "plt.xlabel('Year-Month')\n",
    "plt.ylabel('Total Deaths')\n",
    "plt.title('Total Deaths in France by Month')\n",
    "plt.show()\n"
   ]
  },
  {
   "cell_type": "code",
   "execution_count": 211,
   "id": "32036c5e-7be5-46db-9b99-b5ae42ee222b",
   "metadata": {},
   "outputs": [
    {
     "name": "stdout",
     "output_type": "stream",
     "text": [
      "        location  median_age  total_deaths\n",
      "0          China        38.7       76837.0\n",
      "1         France        42.0      164464.0\n",
      "2        Germany        46.6      165010.0\n",
      "3  United States        38.3     1105766.0\n",
      "-0.47717620240194464\n"
     ]
    }
   ],
   "source": [
    "pysqldf = lambda q: ps.sqldf(q, globals())\n",
    "q = \"\"\"\n",
    "SELECT\n",
    "location,\n",
    "median_age,\n",
    "SUM(new_deaths) as total_deaths\n",
    "FROM df\n",
    "WHERE location IN ('United States','China','France','Germany')\n",
    "GROUP BY location\n",
    "\"\"\"\n",
    "\n",
    "result2 = pysqldf(q)\n",
    "\n",
    "print(result2)\n",
    "\n",
    "correlation = result2['median_age'].corr(result2['total_deaths'])\n",
    "print(correlation)"
   ]
  }
 ],
 "metadata": {
  "kernelspec": {
   "display_name": "Python 3 (ipykernel)",
   "language": "python",
   "name": "python3"
  },
  "language_info": {
   "codemirror_mode": {
    "name": "ipython",
    "version": 3
   },
   "file_extension": ".py",
   "mimetype": "text/x-python",
   "name": "python",
   "nbconvert_exporter": "python",
   "pygments_lexer": "ipython3",
   "version": "3.11.1"
  }
 },
 "nbformat": 4,
 "nbformat_minor": 5
}
